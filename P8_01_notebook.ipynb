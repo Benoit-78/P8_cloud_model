{
 "cells": [
  {
   "cell_type": "markdown",
   "id": "08ab8080",
   "metadata": {},
   "source": [
    "#    I. Importations et paramétrage"
   ]
  },
  {
   "cell_type": "code",
   "execution_count": 16,
   "id": "9603fcb8",
   "metadata": {},
   "outputs": [],
   "source": [
    "#!pip install pyarrow\n",
    "#!pip install findspark"
   ]
  },
  {
   "cell_type": "code",
   "execution_count": 17,
   "id": "8bc19233",
   "metadata": {},
   "outputs": [],
   "source": [
    "# Constants\n",
    "from keys import ACCESS_KEY_ID, SECRET_ACCESS_KEY\n",
    "REGION = 'eu-west-3'\n",
    "BUCKET_NAME = 'ocr-taille-variable'\n",
    "DATASET = 'Training'"
   ]
  },
  {
   "cell_type": "code",
   "execution_count": 18,
   "id": "d7f7d948",
   "metadata": {},
   "outputs": [],
   "source": [
    "# Imports\n",
    "import findspark\n",
    "findspark.init()\n",
    "\n",
    "import boto3\n",
    "import io\n",
    "import matplotlib.pyplot as plt\n",
    "import numpy as np\n",
    "import os\n",
    "import pandas as pd\n",
    "import pyarrow as pa\n",
    "import pyarrow.parquet as pq\n",
    "import pyspark\n",
    "import random\n",
    "import tensorflow as tf\n",
    "\n",
    "from botocore.config import Config\n",
    "from boto3 import session\n",
    "\n",
    "from io import StringIO\n",
    "\n",
    "from tensorflow.keras.applications.resnet50 import ResNet50, preprocess_input, decode_predictions\n",
    "from tensorflow.keras.preprocessing import image\n",
    "\n",
    "from PIL import Image\n",
    "\n",
    "from pyspark import SparkContext\n",
    "from pyspark.ml.feature import PCA, StandardScaler\n",
    "from pyspark.ml.linalg import Vectors, VectorUDT\n",
    "from pyspark.sql import SparkSession, Window\n",
    "from pyspark.sql.functions import array, col, lit, monotonically_increasing_id, pandas_udf, PandasUDFType, row_number, split\n",
    "from pyspark.sql.functions import udf\n",
    "from pyspark.sql.types import ArrayType, FloatType, IntegerType, StringType"
   ]
  },
  {
   "cell_type": "code",
   "execution_count": 19,
   "id": "subjective-content",
   "metadata": {},
   "outputs": [],
   "source": [
    "# Others\n",
    "os.environ['SPARK_HOME'] = '/opt/spark'\n",
    "os.environ['PYSPARK_SUBMIT_ARGS'] = '--packages com.amazonaws:aws-java-sdk-pom:1.10.34,org.apache.hadoop:hadoop-aws:2.7.2 pyspark-shell'"
   ]
  },
  {
   "cell_type": "markdown",
   "id": "39b9d98a",
   "metadata": {},
   "source": [
    "# II. EDA"
   ]
  },
  {
   "cell_type": "markdown",
   "id": "f1612a22",
   "metadata": {},
   "source": [
    "##    A. Chargement des données via Spark"
   ]
  },
  {
   "cell_type": "markdown",
   "id": "gentle-stage",
   "metadata": {},
   "source": [
    "### 1) Préparation"
   ]
  },
  {
   "cell_type": "code",
   "execution_count": 20,
   "id": "b8a2f0d8",
   "metadata": {
    "scrolled": true
   },
   "outputs": [],
   "source": [
    "# Spark session\n",
    "spark = (SparkSession\n",
    "             .builder.master('local[*]')\n",
    "             .appName('p8_ocr')\n",
    "             .config('spark.hadoop.fs.s3a.access.key', ACCESS_KEY_ID)\n",
    "             .config('spark.hadoop.fs.s3a.secret.key', SECRET_ACCESS_KEY)\n",
    "             .config('spark.hadoop.fs.s3a.impl', 'org.apache.hadoop.fs.s3a.S3AFileSystem')\n",
    "             .config('com.amazonaws.services.s3.enableV4', 'true')\n",
    "             .config('spark.hadoop.fs.s3a.endpoint', 's3.' + REGION +'.amazonaws.com')\n",
    "             .getOrCreate())"
   ]
  },
  {
   "cell_type": "code",
   "execution_count": 21,
   "id": "adjusted-favor",
   "metadata": {},
   "outputs": [],
   "source": [
    "# Spark context and log level\n",
    "spark_context = spark.sparkContext\n",
    "spark_context.setLogLevel('WARN')"
   ]
  },
  {
   "cell_type": "code",
   "execution_count": 22,
   "id": "4ff8df7a",
   "metadata": {},
   "outputs": [],
   "source": [
    "# S3 / EC2 authorizations\n",
    "s3 = boto3.resource('s3',\n",
    "                                 REGION,\n",
    "                                 aws_access_key_id=ACCESS_KEY_ID,\n",
    "                                 aws_secret_access_key=SECRET_ACCESS_KEY)\n",
    "bucket = s3.Bucket(BUCKET_NAME)\n",
    "images_list = list(s3_object.key for s3_object in bucket.objects.filter(Prefix=DATASET))"
   ]
  },
  {
   "cell_type": "code",
   "execution_count": 23,
   "id": "comparable-deputy",
   "metadata": {},
   "outputs": [],
   "source": [
    "def path_dataframe(img_list):\n",
    "    zipped_fruits = zip(img_list)\n",
    "    path_sdf = spark.createDataFrame(zipped_fruits, ['image_path'])\n",
    "    return path_sdf\n",
    "\n",
    "\n",
    "@udf('string') # UDF = User Defined Function\n",
    "def fruit_name(path):\n",
    "    fruit = path.split('/')[-2]\n",
    "    return fruit\n",
    "\n",
    "\n",
    "@udf('string')\n",
    "def jpeg_name(path):\n",
    "    img_name = path.split('/')[-1]\n",
    "    img_name = img_name[:-4]\n",
    "    return img_name\n",
    "\n",
    "\n",
    "def readable_columns(path_sdf):\n",
    "    sdf = path_sdf.withColumn('fruit', fruit_name('image_path'))\n",
    "    sdf = sdf.withColumn('JPEG', jpeg_name('image_path'))\n",
    "    return sdf\n",
    "\n",
    "\n",
    "path_sdf = path_dataframe(images_list)\n",
    "image_sdf = readable_columns(path_sdf)"
   ]
  },
  {
   "cell_type": "markdown",
   "id": "micro-venice",
   "metadata": {},
   "source": [
    "### 2) Prédictions"
   ]
  },
  {
   "cell_type": "code",
   "execution_count": 24,
   "id": "welcome-oliver",
   "metadata": {},
   "outputs": [],
   "source": [
    "# Model instanciation\n",
    "resnet_model = ResNet50(include_top=False, # whether to include the fully-connected layer at the top of the network.\n",
    "                                           weights=None, # random initialization\n",
    "                                           pooling='max', # global max pooling will be applied\n",
    "                                           input_shape=(224, 224, 3))"
   ]
  },
  {
   "cell_type": "code",
   "execution_count": 25,
   "id": "d04f6dba",
   "metadata": {
    "scrolled": true
   },
   "outputs": [],
   "source": [
    "def images_sample(image_list, img_nb=2400):\n",
    "    new_images_list = random.choices(images_list, k=img_nb)\n",
    "    return new_images_list\n",
    "\n",
    "\n",
    "def clean_image(path):\n",
    "    obj = bucket.Object(path)\n",
    "    img_body = obj.get()['Body']\n",
    "    image = Image.open(img_body).resize((224, 224))\n",
    "    image = np.expand_dims(image, axis=0)\n",
    "    image = preprocess_input(image)\n",
    "    return image\n",
    "\n",
    "\n",
    "def model_image_prediction(model, image):\n",
    "    clean_img = clean_image(image)\n",
    "    model_feature = model.predict(clean_img).ravel().tolist()\n",
    "    return model_feature\n",
    "\n",
    "\n",
    "def predictions_dataframe(model, data):\n",
    "    resnet_features = [model_image_prediction(model, image) for image in data]\n",
    "    predictions_sdf = spark.createDataFrame([(f,) for f in resnet_features], ['features'])\n",
    "    return predictions_sdf\n",
    "\n",
    "\n",
    "random_images_list = images_sample(images_list)\n",
    "predictions_sdf = predictions_dataframe(resnet_model, random_images_list)"
   ]
  },
  {
   "cell_type": "markdown",
   "id": "labeled-nurse",
   "metadata": {},
   "source": [
    "### 3) Fusion et post-processing"
   ]
  },
  {
   "cell_type": "code",
   "execution_count": 26,
   "id": "absolute-kentucky",
   "metadata": {
    "scrolled": true
   },
   "outputs": [],
   "source": [
    "def merge_dataframe(img_sdf, pred_sdf):\n",
    "    img_sdf = img_sdf.withColumn('index',\n",
    "                                 row_number().over(Window.orderBy(monotonically_increasing_id())))\n",
    "    pred_sdf = pred_sdf.withColumn('index',\n",
    "                               row_number().over(Window.orderBy(monotonically_increasing_id())))\n",
    "    joined_sdf = img_sdf.join(pred_sdf,\n",
    "                                             img_sdf.index == pred_sdf.index\n",
    "                                            ).drop('index')\n",
    "    return joined_sdf\n",
    "\n",
    "\n",
    "def postprocess_dataframe(sdf):\n",
    "    #  MLlib supports two types of local vectors: dense and sparse.\n",
    "    #  A dense vector is backed by a double array representing its entry values.\n",
    "    to_vector = udf(lambda x: Vectors.dense(x), VectorUDT()) # Assurer la compatibilté des données avec MLib\n",
    "    sdf = sdf.select('fruit', 'JPEG', to_vector('features').alias('features_vector'))\n",
    "    return sdf\n",
    "\n",
    "\n",
    "def standardize_dataframe(sdf):\n",
    "    standardizer = StandardScaler(withMean=True,\n",
    "                                                      withStd=True,\n",
    "                                                      inputCol='features_vector',\n",
    "                                                      outputCol='features_std')\n",
    "    std = standardizer.fit(sdf)\n",
    "    sdf = std.transform(sdf)\n",
    "    sdf = sdf.select('fruit', 'JPEG', 'features_std')\n",
    "    return sdf\n",
    "\n",
    "\n",
    "image_sdf = merge_dataframe(image_sdf, predictions_sdf)\n",
    "image_sdf = postprocess_dataframe(image_sdf)\n",
    "image_sdf = standardize_dataframe(image_sdf)"
   ]
  },
  {
   "cell_type": "markdown",
   "id": "august-certificate",
   "metadata": {},
   "source": [
    "## B. Réduction de dimension"
   ]
  },
  {
   "cell_type": "code",
   "execution_count": 27,
   "id": "adaptive-resident",
   "metadata": {},
   "outputs": [
    {
     "data": {
      "image/png": "[encoded data removed]",
      "text/plain": [
       "<Figure size 432x576 with 4 Axes>"
      ]
     },
     "metadata": {
      "needs_background": "light"
     },
     "output_type": "display_data"
    }
   ],
   "source": [
    "def pca_scree_plot(sdf, n_comp):\n",
    "    def pca_model_data(n_comp):\n",
    "        pca_model = pyspark.ml.feature.PCA(k=n_comp,\n",
    "                                                         inputCol='features_std',\n",
    "                                                         outputCol='features_pca')\n",
    "        pca_model = pca_model.fit(sdf)\n",
    "        scree = pca_model.explainedVariance\n",
    "        return scree\n",
    "    \n",
    "    def eighty_pct_3_points(data):\n",
    "        data_cumsum = data.cumsum()\n",
    "        for i, element in enumerate(data_cumsum):\n",
    "            if element > 0.8:\n",
    "                x_sup = i\n",
    "                y_sup = element\n",
    "                x_inf = i-1\n",
    "                y_inf = data_cumsum[i-1]\n",
    "                break\n",
    "        x_80 = x_inf + (0.8 - y_inf) / (y_sup - y_inf)\n",
    "        abs_80 = [x_80, 0]\n",
    "        pt_80 = [x_80, 0.8]\n",
    "        ord_80 = [n_comp - 1, 0.8]\n",
    "        return abs_80, pt_80, ord_80\n",
    "    \n",
    "    fig = plt.figure(figsize=(6, 8))\n",
    "    # Bins\n",
    "    ax1 = fig.add_subplot(111)\n",
    "    data = pca_model_data(n_comp)\n",
    "    plt.title(\"Eboulis des valeurs propres\")\n",
    "    plt.xlabel(\"Rang de l'axe d'inertie\")\n",
    "    plt.ylim((0, 1.1))\n",
    "    plt.ylabel(\"Pourcentage d'inertie\")\n",
    "    ax1.bar(np.arange(len(data))+1, data)\n",
    "    # Cumsum\n",
    "    ax2 = ax1.twinx()\n",
    "    plt.ylim((0, 1.1))\n",
    "    ax2.plot(np.arange(len(data))+1, data.cumsum(), c=\"red\", marker='o')\n",
    "    # 80% lines\n",
    "    abs_80, pt_80, ord_80 = eighty_pct_3_points(data)\n",
    "    # Vertical line\n",
    "    ax3 = ax2.twinx()\n",
    "    plt.ylim((0, 1.1))\n",
    "    ax3.plot([abs_80[0], pt_80[0]], [abs_80[1], pt_80[1]], '--', color='red', linewidth=1)\n",
    "    # Horizontal line\n",
    "    ax4 = ax2.twinx()\n",
    "    plt.ylim((0, 1.1))\n",
    "    ax4.plot([pt_80[0], ord_80[0]], [pt_80[1], ord_80[1]], '--', color='red', linewidth=1)\n",
    "    \n",
    "    \n",
    "pca_scree_plot(image_sdf, 200)"
   ]
  },
  {
   "cell_type": "code",
   "execution_count": 28,
   "id": "elder-dress",
   "metadata": {
    "scrolled": true
   },
   "outputs": [],
   "source": [
    "def pca_dataframe(sdf, n_comp=150):\n",
    "    pca_model = pyspark.ml.feature.PCA(k=n_comp,\n",
    "                                                     inputCol='features_std',\n",
    "                                                     outputCol='features_pca')\n",
    "    pca_model = pca_model.fit(sdf)\n",
    "    pca_sdf = pca_model.transform(sdf)\n",
    "    pca_sdf = pca_sdf.select('fruit', 'JPEG', 'features_pca')\n",
    "    return pca_sdf\n",
    "\n",
    "\n",
    "pca_sdf = pca_dataframe(image_sdf)"
   ]
  },
  {
   "cell_type": "markdown",
   "id": "protecting-african",
   "metadata": {},
   "source": [
    "## C. Enregistrement csv"
   ]
  },
  {
   "cell_type": "code",
   "execution_count": 29,
   "id": "wound-absorption",
   "metadata": {},
   "outputs": [],
   "source": [
    "def save_csv(sdf, csv_name):\n",
    "    csv_buffer = StringIO()\n",
    "    pca_df = image_sdf.toPandas()\n",
    "    pca_df.to_csv(csv_buffer)\n",
    "    s3.Object(BUCKET_NAME, csv_name).put(Body=csv_buffer.getvalue())\n",
    "\n",
    "\n",
    "save_csv(image_sdf, 'image_dataframe.csv')"
   ]
  },
  {
   "cell_type": "code",
   "execution_count": 30,
   "id": "complex-alignment",
   "metadata": {},
   "outputs": [],
   "source": [
    "spark.stop()"
   ]
  }
 ],
 "metadata": {
  "kernelspec": {
   "display_name": "Python 3",
   "language": "python",
   "name": "python3"
  },
  "language_info": {
   "codemirror_mode": {
    "name": "ipython",
    "version": 3
   },
   "file_extension": ".py",
   "mimetype": "text/x-python",
   "name": "python",
   "nbconvert_exporter": "python",
   "pygments_lexer": "ipython3",
   "version": "3.7.10"
  }
 },
 "nbformat": 4,
 "nbformat_minor": 5
}
